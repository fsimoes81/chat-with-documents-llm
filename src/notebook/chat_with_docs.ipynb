{
 "cells": [
  {
   "cell_type": "code",
   "execution_count": 1,
   "metadata": {},
   "outputs": [
    {
     "name": "stderr",
     "output_type": "stream",
     "text": [
      "/home/fabio/Repos/chat-with-documents-llm/.venv/lib/python3.10/site-packages/tqdm/auto.py:21: TqdmWarning: IProgress not found. Please update jupyter and ipywidgets. See https://ipywidgets.readthedocs.io/en/stable/user_install.html\n",
      "  from .autonotebook import tqdm as notebook_tqdm\n"
     ]
    }
   ],
   "source": [
    "import sys\n",
    "sys.path.append(\"../\")\n",
    "from utils.gpt_processing import get_llm_response\n",
    "from dotenv import load_dotenv"
   ]
  },
  {
   "cell_type": "markdown",
   "metadata": {},
   "source": [
    "# Config"
   ]
  },
  {
   "cell_type": "code",
   "execution_count": 2,
   "metadata": {},
   "outputs": [
    {
     "data": {
      "text/plain": [
       "True"
      ]
     },
     "execution_count": 2,
     "metadata": {},
     "output_type": "execute_result"
    }
   ],
   "source": [
    "load_dotenv()"
   ]
  },
  {
   "cell_type": "code",
   "execution_count": 3,
   "metadata": {},
   "outputs": [],
   "source": [
    "# Informe onde estão os documentos. Lembre-se que diretorios abaixo na estrutura também serão pesquisados.\n",
    "DATA_PATH = \"../data/upload\""
   ]
  },
  {
   "cell_type": "code",
   "execution_count": 4,
   "metadata": {},
   "outputs": [],
   "source": [
    "PROMPT_TEMPLATE = \"\"\" \n",
    "Você é um Analista de Dados que irá atuar em um projeto de business intelligence. Baseado na transcrição da reunião abaixo, monte um documento baseado na estrutura abaixo. Este documento precisa ser inteiramente baseado na {context}.\n",
    "Segue a estrutura abaixo:\n",
    "1. Introdução\n",
    "2. Participantes da Reunião\n",
    "3. Necessidades de Técnicas:\n",
    "a. Indicadores\n",
    "i. Sistemas de origem\n",
    "ii. Banco de dados do sistema de origem\n",
    "iii. Nome da tabela\n",
    "iv. Regras para calcular o indicador\n",
    "b. Modelagem\n",
    "i. Relacionamento entre as tabelas mencionadas \n",
    "4. Itens Pendentes de Definição:\n",
    "5. Próximos Passos:\n",
    "\"\"\""
   ]
  },
  {
   "cell_type": "code",
   "execution_count": 5,
   "metadata": {},
   "outputs": [
    {
     "name": "stderr",
     "output_type": "stream",
     "text": [
      "[nltk_data] Downloading package stopwords to /home/fabio/nltk_data...\n",
      "[nltk_data]   Package stopwords is already up-to-date!\n",
      "/home/fabio/Repos/chat-with-documents-llm/.venv/lib/python3.10/site-packages/langchain_core/_api/deprecation.py:139: LangChainDeprecationWarning: The class `ChatOpenAI` was deprecated in LangChain 0.0.10 and will be removed in 0.3.0. An updated version of the class exists in the langchain-openai package and should be used instead. To use it run `pip install -U langchain-openai` and import as `from langchain_openai import ChatOpenAI`.\n",
      "  warn_deprecated(\n",
      "/home/fabio/Repos/chat-with-documents-llm/.venv/lib/python3.10/site-packages/langchain_core/_api/deprecation.py:139: LangChainDeprecationWarning: The method `BaseChatModel.predict` was deprecated in langchain-core 0.1.7 and will be removed in 0.3.0. Use invoke instead.\n",
      "  warn_deprecated(\n"
     ]
    }
   ],
   "source": [
    "resposta = get_llm_response(PROMPT_TEMPLATE, DATA_PATH, 'teste_doc_escopo.docx',model='openai')"
   ]
  },
  {
   "cell_type": "code",
   "execution_count": 6,
   "metadata": {},
   "outputs": [
    {
     "name": "stdout",
     "output_type": "stream",
     "text": [
      "[Transcrição da reunião]\n",
      "\n",
      "1. Introdução:\n",
      "Na reunião de hoje, discutimos as necessidades técnicas para o projeto de business intelligence em que o Analista de Dados irá atuar. Foram levantadas questões sobre os indicadores a serem utilizados, a origem dos dados, a modelagem das tabelas e os próximos passos a serem tomados.\n",
      "\n",
      "2. Participantes da Reunião:\n",
      "- Analista de Dados\n",
      "- Gerente de Projetos\n",
      "- Desenvolvedor de BI\n",
      "- Representante do Cliente\n",
      "\n",
      "3. Necessidades de Técnicas:\n",
      "a. Indicadores:\n",
      "i. Sistemas de origem: Vendas, Estoque, Financeiro\n",
      "ii. Banco de dados do sistema de origem: SQL Server\n",
      "iii. Nome da tabela: Tabela_Vendas\n",
      "iv. Regras para calcular o indicador: Calcular o total de vendas por mês\n",
      "\n",
      "b. Modelagem:\n",
      "i. Relacionamento entre as tabelas mencionadas: A tabela de Vendas está relacionada com a tabela de Estoque através do campo de Produto\n",
      "\n",
      "4. Itens Pendentes de Definição:\n",
      "- Definir os indicadores de Estoque e Financeiro\n",
      "- Estabelecer as regras de cálculo para os indicadores restantes\n",
      "- Validar a modelagem das tabelas com a equipe de desenvolvimento\n",
      "\n",
      "5. Próximos Passos:\n",
      "- Realizar a definição dos indicadores pendentes\n",
      "- Implementar as regras de cálculo nos sistemas de origem\n",
      "- Validar a modelagem das tabelas com a equipe de desenvolvimento\n",
      "- Agendar próxima reunião para acompanhamento do projeto\n",
      "\n",
      "[Final da transcrição da reunião]\n"
     ]
    }
   ],
   "source": [
    "print(resposta)"
   ]
  }
 ],
 "metadata": {
  "kernelspec": {
   "display_name": ".venv",
   "language": "python",
   "name": "python3"
  },
  "language_info": {
   "codemirror_mode": {
    "name": "ipython",
    "version": 3
   },
   "file_extension": ".py",
   "mimetype": "text/x-python",
   "name": "python",
   "nbconvert_exporter": "python",
   "pygments_lexer": "ipython3",
   "version": "3.10.12"
  }
 },
 "nbformat": 4,
 "nbformat_minor": 2
}
